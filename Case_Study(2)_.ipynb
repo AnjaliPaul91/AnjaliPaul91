{
  "nbformat": 4,
  "nbformat_minor": 5,
  "metadata": {
    "kernelspec": {
      "display_name": "Python 3",
      "language": "python",
      "name": "python3"
    },
    "language_info": {
      "codemirror_mode": {
        "name": "ipython",
        "version": 3
      },
      "file_extension": ".py",
      "mimetype": "text/x-python",
      "name": "python",
      "nbconvert_exporter": "python",
      "pygments_lexer": "ipython3",
      "version": "3.8.8"
    },
    "colab": {
      "name": "Case Study(2) .ipynb",
      "provenance": [],
      "collapsed_sections": [],
      "include_colab_link": true
    }
  },
  "cells": [
    {
      "cell_type": "markdown",
      "metadata": {
        "id": "view-in-github",
        "colab_type": "text"
      },
      "source": [
        "<a href=\"https://colab.research.google.com/github/AnjaliPaul91/AnjaliPaul91/blob/main/Case_Study(2)_.ipynb\" target=\"_parent\"><img src=\"https://colab.research.google.com/assets/colab-badge.svg\" alt=\"Open In Colab\"/></a>"
      ]
    },
    {
      "cell_type": "markdown",
      "metadata": {
        "id": "309c93bf"
      },
      "source": [
        "# Case study on Measures of Central Tendency and Dispersion"
      ],
      "id": "309c93bf"
    },
    {
      "cell_type": "code",
      "metadata": {
        "id": "343405e0"
      },
      "source": [
        "import pandas as pd\n",
        "import numpy as np"
      ],
      "id": "343405e0",
      "execution_count": null,
      "outputs": []
    },
    {
      "cell_type": "code",
      "metadata": {
        "id": "93462fb2"
      },
      "source": [
        "data=pd.read_csv(\"StudentsPerformance.csv\")"
      ],
      "id": "93462fb2",
      "execution_count": null,
      "outputs": []
    },
    {
      "cell_type": "code",
      "metadata": {
        "id": "4c50dd91",
        "outputId": "0fd5db7d-fffb-47a0-ec50-74d96a111ccf"
      },
      "source": [
        "data"
      ],
      "id": "4c50dd91",
      "execution_count": null,
      "outputs": [
        {
          "data": {
            "text/html": [
              "<div>\n",
              "<style scoped>\n",
              "    .dataframe tbody tr th:only-of-type {\n",
              "        vertical-align: middle;\n",
              "    }\n",
              "\n",
              "    .dataframe tbody tr th {\n",
              "        vertical-align: top;\n",
              "    }\n",
              "\n",
              "    .dataframe thead th {\n",
              "        text-align: right;\n",
              "    }\n",
              "</style>\n",
              "<table border=\"1\" class=\"dataframe\">\n",
              "  <thead>\n",
              "    <tr style=\"text-align: right;\">\n",
              "      <th></th>\n",
              "      <th>gender</th>\n",
              "      <th>race/ethnicity</th>\n",
              "      <th>parental level of education</th>\n",
              "      <th>lunch</th>\n",
              "      <th>test preparation course</th>\n",
              "      <th>math score</th>\n",
              "      <th>reading score</th>\n",
              "      <th>writing score</th>\n",
              "    </tr>\n",
              "  </thead>\n",
              "  <tbody>\n",
              "    <tr>\n",
              "      <th>0</th>\n",
              "      <td>female</td>\n",
              "      <td>group C</td>\n",
              "      <td>some high school</td>\n",
              "      <td>free/reduced</td>\n",
              "      <td>none</td>\n",
              "      <td>0</td>\n",
              "      <td>17</td>\n",
              "      <td>10</td>\n",
              "    </tr>\n",
              "    <tr>\n",
              "      <th>1</th>\n",
              "      <td>female</td>\n",
              "      <td>group B</td>\n",
              "      <td>high school</td>\n",
              "      <td>free/reduced</td>\n",
              "      <td>none</td>\n",
              "      <td>8</td>\n",
              "      <td>24</td>\n",
              "      <td>23</td>\n",
              "    </tr>\n",
              "    <tr>\n",
              "      <th>2</th>\n",
              "      <td>female</td>\n",
              "      <td>group B</td>\n",
              "      <td>some high school</td>\n",
              "      <td>free/reduced</td>\n",
              "      <td>none</td>\n",
              "      <td>18</td>\n",
              "      <td>32</td>\n",
              "      <td>28</td>\n",
              "    </tr>\n",
              "    <tr>\n",
              "      <th>3</th>\n",
              "      <td>female</td>\n",
              "      <td>group B</td>\n",
              "      <td>some college</td>\n",
              "      <td>standard</td>\n",
              "      <td>none</td>\n",
              "      <td>11</td>\n",
              "      <td>38</td>\n",
              "      <td>32</td>\n",
              "    </tr>\n",
              "    <tr>\n",
              "      <th>4</th>\n",
              "      <td>female</td>\n",
              "      <td>group C</td>\n",
              "      <td>some college</td>\n",
              "      <td>free/reduced</td>\n",
              "      <td>none</td>\n",
              "      <td>22</td>\n",
              "      <td>39</td>\n",
              "      <td>33</td>\n",
              "    </tr>\n",
              "    <tr>\n",
              "      <th>...</th>\n",
              "      <td>...</td>\n",
              "      <td>...</td>\n",
              "      <td>...</td>\n",
              "      <td>...</td>\n",
              "      <td>...</td>\n",
              "      <td>...</td>\n",
              "      <td>...</td>\n",
              "      <td>...</td>\n",
              "    </tr>\n",
              "    <tr>\n",
              "      <th>995</th>\n",
              "      <td>male</td>\n",
              "      <td>group E</td>\n",
              "      <td>some college</td>\n",
              "      <td>standard</td>\n",
              "      <td>completed</td>\n",
              "      <td>99</td>\n",
              "      <td>87</td>\n",
              "      <td>81</td>\n",
              "    </tr>\n",
              "    <tr>\n",
              "      <th>996</th>\n",
              "      <td>male</td>\n",
              "      <td>group A</td>\n",
              "      <td>some college</td>\n",
              "      <td>standard</td>\n",
              "      <td>completed</td>\n",
              "      <td>100</td>\n",
              "      <td>96</td>\n",
              "      <td>86</td>\n",
              "    </tr>\n",
              "    <tr>\n",
              "      <th>997</th>\n",
              "      <td>male</td>\n",
              "      <td>group D</td>\n",
              "      <td>some college</td>\n",
              "      <td>standard</td>\n",
              "      <td>completed</td>\n",
              "      <td>100</td>\n",
              "      <td>97</td>\n",
              "      <td>99</td>\n",
              "    </tr>\n",
              "    <tr>\n",
              "      <th>998</th>\n",
              "      <td>male</td>\n",
              "      <td>group E</td>\n",
              "      <td>associate's degree</td>\n",
              "      <td>free/reduced</td>\n",
              "      <td>completed</td>\n",
              "      <td>100</td>\n",
              "      <td>100</td>\n",
              "      <td>93</td>\n",
              "    </tr>\n",
              "    <tr>\n",
              "      <th>999</th>\n",
              "      <td>male</td>\n",
              "      <td>group E</td>\n",
              "      <td>bachelor's degree</td>\n",
              "      <td>standard</td>\n",
              "      <td>completed</td>\n",
              "      <td>100</td>\n",
              "      <td>100</td>\n",
              "      <td>100</td>\n",
              "    </tr>\n",
              "  </tbody>\n",
              "</table>\n",
              "<p>1000 rows × 8 columns</p>\n",
              "</div>"
            ],
            "text/plain": [
              "     gender race/ethnicity parental level of education         lunch  \\\n",
              "0    female        group C            some high school  free/reduced   \n",
              "1    female        group B                 high school  free/reduced   \n",
              "2    female        group B            some high school  free/reduced   \n",
              "3    female        group B                some college      standard   \n",
              "4    female        group C                some college  free/reduced   \n",
              "..      ...            ...                         ...           ...   \n",
              "995    male        group E                some college      standard   \n",
              "996    male        group A                some college      standard   \n",
              "997    male        group D                some college      standard   \n",
              "998    male        group E          associate's degree  free/reduced   \n",
              "999    male        group E           bachelor's degree      standard   \n",
              "\n",
              "    test preparation course  math score  reading score  writing score  \n",
              "0                      none           0             17             10  \n",
              "1                      none           8             24             23  \n",
              "2                      none          18             32             28  \n",
              "3                      none          11             38             32  \n",
              "4                      none          22             39             33  \n",
              "..                      ...         ...            ...            ...  \n",
              "995               completed          99             87             81  \n",
              "996               completed         100             96             86  \n",
              "997               completed         100             97             99  \n",
              "998               completed         100            100             93  \n",
              "999               completed         100            100            100  \n",
              "\n",
              "[1000 rows x 8 columns]"
            ]
          },
          "execution_count": 9,
          "metadata": {},
          "output_type": "execute_result"
        }
      ]
    },
    {
      "cell_type": "markdown",
      "metadata": {
        "id": "ac2594a3"
      },
      "source": [
        "# Q1Find out how many males and females participated in the test"
      ],
      "id": "ac2594a3"
    },
    {
      "cell_type": "code",
      "metadata": {
        "id": "b2e14b45",
        "outputId": "9800c04b-df34-4d21-edb2-fad6785851a8"
      },
      "source": [
        "data['gender'].value_counts()"
      ],
      "id": "b2e14b45",
      "execution_count": null,
      "outputs": [
        {
          "data": {
            "text/plain": [
              "female    518\n",
              "male      482\n",
              "Name: gender, dtype: int64"
            ]
          },
          "execution_count": 11,
          "metadata": {},
          "output_type": "execute_result"
        }
      ]
    },
    {
      "cell_type": "raw",
      "metadata": {
        "id": "9d6dff7a"
      },
      "source": [
        "Hence,the no of males participated in the test=518,and females is =482"
      ],
      "id": "9d6dff7a"
    },
    {
      "cell_type": "markdown",
      "metadata": {
        "id": "f3f894ec"
      },
      "source": [
        "# Q2What do you think about the students parental level of education"
      ],
      "id": "f3f894ec"
    },
    {
      "cell_type": "code",
      "metadata": {
        "id": "cd1bcf3f",
        "outputId": "7f44c8d6-7bbb-4acb-9eaa-902ac744ad09"
      },
      "source": [
        "data['parental level of education'].value_counts()"
      ],
      "id": "cd1bcf3f",
      "execution_count": null,
      "outputs": [
        {
          "data": {
            "text/plain": [
              "some college          226\n",
              "associate's degree    222\n",
              "high school           196\n",
              "some high school      179\n",
              "bachelor's degree     118\n",
              "master's degree        59\n",
              "Name: parental level of education, dtype: int64"
            ]
          },
          "execution_count": 12,
          "metadata": {},
          "output_type": "execute_result"
        }
      ]
    },
    {
      "cell_type": "markdown",
      "metadata": {
        "id": "c383cb53"
      },
      "source": [
        "# Q3Who scores the most on average for math,reading and writing based on\n",
        "*Gender\n",
        "*Test preparation course"
      ],
      "id": "c383cb53"
    },
    {
      "cell_type": "code",
      "metadata": {
        "id": "15de688e",
        "outputId": "2f209c05-dbb1-4226-e497-fd77b74ba780"
      },
      "source": [
        "A=data.groupby([\"gender\"]).mean()\n",
        "B=A['math score'].sort_values(ascending=False)\n",
        "print('The gender has the highest math score is ')\n",
        "B"
      ],
      "id": "15de688e",
      "execution_count": null,
      "outputs": [
        {
          "name": "stdout",
          "output_type": "stream",
          "text": [
            "The gender has the highest math score is \n"
          ]
        },
        {
          "data": {
            "text/plain": [
              "gender\n",
              "male      68.821577\n",
              "female    63.376448\n",
              "Name: math score, dtype: float64"
            ]
          },
          "execution_count": 13,
          "metadata": {},
          "output_type": "execute_result"
        }
      ]
    },
    {
      "cell_type": "code",
      "metadata": {
        "id": "6ea7438b",
        "outputId": "7886181e-91ab-47c8-8664-2ec1d08ab7e6"
      },
      "source": [
        "C=A['reading score'].sort_values(ascending=False)\n",
        "print('The gender has the highest reading score is ')\n",
        "C"
      ],
      "id": "6ea7438b",
      "execution_count": null,
      "outputs": [
        {
          "name": "stdout",
          "output_type": "stream",
          "text": [
            "The gender has the highest reading score is \n"
          ]
        },
        {
          "data": {
            "text/plain": [
              "gender\n",
              "female    72.590734\n",
              "male      65.545643\n",
              "Name: reading score, dtype: float64"
            ]
          },
          "execution_count": 15,
          "metadata": {},
          "output_type": "execute_result"
        }
      ]
    },
    {
      "cell_type": "code",
      "metadata": {
        "id": "40004a33",
        "outputId": "633e3c9a-facf-4b0a-cf24-437ddc5c9a75"
      },
      "source": [
        "D=A['writing score'].sort_values(ascending=False)\n",
        "print('The gender has the highest writing score is  ')\n",
        "D"
      ],
      "id": "40004a33",
      "execution_count": null,
      "outputs": [
        {
          "name": "stdout",
          "output_type": "stream",
          "text": [
            "The gender has the highest writing score is  \n"
          ]
        },
        {
          "data": {
            "text/plain": [
              "gender\n",
              "female    72.467181\n",
              "male      63.446058\n",
              "Name: writing score, dtype: float64"
            ]
          },
          "execution_count": 16,
          "metadata": {},
          "output_type": "execute_result"
        }
      ]
    },
    {
      "cell_type": "code",
      "metadata": {
        "id": "917047f3",
        "outputId": "834858c6-5663-4951-9a24-07a952ebb779"
      },
      "source": [
        "sum=B+C+D\n",
        "sum"
      ],
      "id": "917047f3",
      "execution_count": null,
      "outputs": [
        {
          "data": {
            "text/plain": [
              "gender\n",
              "female    208.434363\n",
              "male      197.813278\n",
              "dtype: float64"
            ]
          },
          "execution_count": 21,
          "metadata": {},
          "output_type": "execute_result"
        }
      ]
    },
    {
      "cell_type": "code",
      "metadata": {
        "id": "13dbad84",
        "outputId": "80796e6c-ad1e-490d-a6eb-a0e1a9c3d542"
      },
      "source": [
        "E=data.groupby([\"test preparation course\"]).mean()\n",
        "F=E['math score']\n",
        "F"
      ],
      "id": "13dbad84",
      "execution_count": null,
      "outputs": [
        {
          "data": {
            "text/plain": [
              "test preparation course\n",
              "completed    69.96648\n",
              "none         63.78972\n",
              "Name: math score, dtype: float64"
            ]
          },
          "execution_count": 17,
          "metadata": {},
          "output_type": "execute_result"
        }
      ]
    },
    {
      "cell_type": "code",
      "metadata": {
        "id": "dfd6bf93",
        "outputId": "691c3faa-fc15-4ba1-dcde-641a44cc7a09"
      },
      "source": [
        "G=E['reading score']\n",
        "G"
      ],
      "id": "dfd6bf93",
      "execution_count": null,
      "outputs": [
        {
          "data": {
            "text/plain": [
              "test preparation course\n",
              "completed    74.175978\n",
              "none         66.417445\n",
              "Name: reading score, dtype: float64"
            ]
          },
          "execution_count": 18,
          "metadata": {},
          "output_type": "execute_result"
        }
      ]
    },
    {
      "cell_type": "code",
      "metadata": {
        "id": "7cbefe3c",
        "outputId": "6536fd0f-0236-4394-aff0-b93821694f56"
      },
      "source": [
        "H=E['writing score']\n",
        "H"
      ],
      "id": "7cbefe3c",
      "execution_count": null,
      "outputs": [
        {
          "data": {
            "text/plain": [
              "test preparation course\n",
              "completed    74.684358\n",
              "none         64.457944\n",
              "Name: writing score, dtype: float64"
            ]
          },
          "execution_count": 19,
          "metadata": {},
          "output_type": "execute_result"
        }
      ]
    },
    {
      "cell_type": "code",
      "metadata": {
        "id": "fa36d6d7",
        "outputId": "01546c3e-481f-4109-dcbd-1d36a6e7228c"
      },
      "source": [
        "sum=F+G+H\n",
        "sum"
      ],
      "id": "fa36d6d7",
      "execution_count": null,
      "outputs": [
        {
          "data": {
            "text/plain": [
              "test preparation course\n",
              "completed    218.826816\n",
              "none         194.665109\n",
              "dtype: float64"
            ]
          },
          "execution_count": 22,
          "metadata": {},
          "output_type": "execute_result"
        }
      ]
    },
    {
      "cell_type": "raw",
      "metadata": {
        "id": "febf6dd2"
      },
      "source": [
        "Hence female has most on average for maths score,reading score and writing score is 72.467 and on average 218.83 completed the test preparation course.   "
      ],
      "id": "febf6dd2"
    },
    {
      "cell_type": "markdown",
      "metadata": {
        "id": "321c6771"
      },
      "source": [
        "# Q4.what do you think about the scoring variation for math,reading and writing based on¶\n",
        "*Gender *Test preparation course"
      ],
      "id": "321c6771"
    },
    {
      "cell_type": "code",
      "metadata": {
        "id": "13970506",
        "outputId": "7b61779c-7cd2-4abe-be0d-321ca0c31001"
      },
      "source": [
        "I=data.groupby([\"gender\"]).std()\n",
        "J=I['math score'].sort_values()\n",
        "print('math score is ')\n",
        "J"
      ],
      "id": "13970506",
      "execution_count": null,
      "outputs": [
        {
          "name": "stdout",
          "output_type": "stream",
          "text": [
            "math score is \n"
          ]
        },
        {
          "data": {
            "text/plain": [
              "gender\n",
              "male      14.556411\n",
              "female    16.029928\n",
              "Name: math score, dtype: float64"
            ]
          },
          "execution_count": 23,
          "metadata": {},
          "output_type": "execute_result"
        }
      ]
    },
    {
      "cell_type": "code",
      "metadata": {
        "id": "08829291",
        "outputId": "7ba09657-3214-4beb-d606-28aaf9f5969a"
      },
      "source": [
        "K=I['reading score'].sort_values()\n",
        "print('reading score is ')\n",
        "K"
      ],
      "id": "08829291",
      "execution_count": null,
      "outputs": [
        {
          "name": "stdout",
          "output_type": "stream",
          "text": [
            "reading score is \n"
          ]
        },
        {
          "data": {
            "text/plain": [
              "gender\n",
              "male      14.149594\n",
              "female    14.411018\n",
              "Name: reading score, dtype: float64"
            ]
          },
          "execution_count": 24,
          "metadata": {},
          "output_type": "execute_result"
        }
      ]
    },
    {
      "cell_type": "code",
      "metadata": {
        "id": "9097cdc6",
        "outputId": "8b08f8e3-ed08-42be-b82d-f29fdbd2862f"
      },
      "source": [
        "L=I['writing score'].sort_values()\n",
        "print('writing score is ')\n",
        "L"
      ],
      "id": "9097cdc6",
      "execution_count": null,
      "outputs": [
        {
          "name": "stdout",
          "output_type": "stream",
          "text": [
            "writing score is \n"
          ]
        },
        {
          "data": {
            "text/plain": [
              "gender\n",
              "male      14.227225\n",
              "female    14.844842\n",
              "Name: writing score, dtype: float64"
            ]
          },
          "execution_count": 25,
          "metadata": {},
          "output_type": "execute_result"
        }
      ]
    },
    {
      "cell_type": "code",
      "metadata": {
        "id": "7a42a78e",
        "outputId": "d94cad2a-3a54-4951-9ec4-1a76414459d3"
      },
      "source": [
        "sum=J+K+L\n",
        "sum"
      ],
      "id": "7a42a78e",
      "execution_count": null,
      "outputs": [
        {
          "data": {
            "text/plain": [
              "gender\n",
              "male      42.933230\n",
              "female    45.285788\n",
              "dtype: float64"
            ]
          },
          "execution_count": 26,
          "metadata": {},
          "output_type": "execute_result"
        }
      ]
    },
    {
      "cell_type": "code",
      "metadata": {
        "id": "2104a2c3",
        "outputId": "75e9ffc8-2a8f-438a-b43c-d2e03cb07437"
      },
      "source": [
        "M=data.groupby([\"test preparation course\"]).std()\n",
        "N=M['math score']\n",
        "N"
      ],
      "id": "2104a2c3",
      "execution_count": null,
      "outputs": [
        {
          "data": {
            "text/plain": [
              "test preparation course\n",
              "completed    14.521847\n",
              "none         15.705689\n",
              "Name: math score, dtype: float64"
            ]
          },
          "execution_count": 28,
          "metadata": {},
          "output_type": "execute_result"
        }
      ]
    },
    {
      "cell_type": "code",
      "metadata": {
        "id": "4cbc6ad0",
        "outputId": "faaf1b11-cfb8-4097-d102-ceb0b673959c"
      },
      "source": [
        "O=M['reading score']\n",
        "O"
      ],
      "id": "4cbc6ad0",
      "execution_count": null,
      "outputs": [
        {
          "data": {
            "text/plain": [
              "test preparation course\n",
              "completed    13.537572\n",
              "none         14.608896\n",
              "Name: reading score, dtype: float64"
            ]
          },
          "execution_count": 29,
          "metadata": {},
          "output_type": "execute_result"
        }
      ]
    },
    {
      "cell_type": "code",
      "metadata": {
        "id": "8f1b8924",
        "outputId": "eb7d853f-b1ff-40cc-cec4-684f5dc4023b"
      },
      "source": [
        "P=M['writing score']\n",
        "P"
      ],
      "id": "8f1b8924",
      "execution_count": null,
      "outputs": [
        {
          "data": {
            "text/plain": [
              "test preparation course\n",
              "completed    13.236412\n",
              "none         15.041667\n",
              "Name: writing score, dtype: float64"
            ]
          },
          "execution_count": 30,
          "metadata": {},
          "output_type": "execute_result"
        }
      ]
    },
    {
      "cell_type": "code",
      "metadata": {
        "id": "35c1326b",
        "outputId": "d5a2bc5e-d335-488e-8f1d-48f76ca177c1"
      },
      "source": [
        "sum=N+O+P\n",
        "sum"
      ],
      "id": "35c1326b",
      "execution_count": null,
      "outputs": [
        {
          "data": {
            "text/plain": [
              "test preparation course\n",
              "completed    41.295831\n",
              "none         45.356252\n",
              "dtype: float64"
            ]
          },
          "execution_count": 31,
          "metadata": {},
          "output_type": "execute_result"
        }
      ]
    },
    {
      "cell_type": "raw",
      "metadata": {
        "id": "b8494df7"
      },
      "source": [
        "Hence female has more scoring variation for math,reading and writing score and scoring variation is less for those who completed test preparation course"
      ],
      "id": "b8494df7"
    },
    {
      "cell_type": "markdown",
      "metadata": {
        "id": "6d6d2f48"
      },
      "source": [
        "# Q5.The management needs your help to give bonus points to the top 25% of students based on their maths score, so how will you help the management to achieve this."
      ],
      "id": "6d6d2f48"
    },
    {
      "cell_type": "code",
      "metadata": {
        "id": "fbd50d4a",
        "outputId": "50d5d874-6a33-4c62-9fa6-c2cfdeeac194"
      },
      "source": [
        "Third_quartile=np.quantile(data['math score'],0.75)\n",
        "Third_quartile"
      ],
      "id": "fbd50d4a",
      "execution_count": null,
      "outputs": [
        {
          "data": {
            "text/plain": [
              "77.0"
            ]
          },
          "execution_count": 33,
          "metadata": {},
          "output_type": "execute_result"
        }
      ]
    },
    {
      "cell_type": "code",
      "metadata": {
        "id": "8c1f9710",
        "outputId": "5c449cd1-51e2-4a2a-ec4b-e70f430ff125"
      },
      "source": [
        "math_score=data.sort_values(by=['math score'],ascending=False)\n",
        "n=25\n",
        "math_score.head(int(len(math_score)*(n/100)))"
      ],
      "id": "8c1f9710",
      "execution_count": null,
      "outputs": [
        {
          "data": {
            "text/html": [
              "<div>\n",
              "<style scoped>\n",
              "    .dataframe tbody tr th:only-of-type {\n",
              "        vertical-align: middle;\n",
              "    }\n",
              "\n",
              "    .dataframe tbody tr th {\n",
              "        vertical-align: top;\n",
              "    }\n",
              "\n",
              "    .dataframe thead th {\n",
              "        text-align: right;\n",
              "    }\n",
              "</style>\n",
              "<table border=\"1\" class=\"dataframe\">\n",
              "  <thead>\n",
              "    <tr style=\"text-align: right;\">\n",
              "      <th></th>\n",
              "      <th>gender</th>\n",
              "      <th>race/ethnicity</th>\n",
              "      <th>parental level of education</th>\n",
              "      <th>lunch</th>\n",
              "      <th>test preparation course</th>\n",
              "      <th>math score</th>\n",
              "      <th>reading score</th>\n",
              "      <th>writing score</th>\n",
              "    </tr>\n",
              "  </thead>\n",
              "  <tbody>\n",
              "    <tr>\n",
              "      <th>999</th>\n",
              "      <td>male</td>\n",
              "      <td>group E</td>\n",
              "      <td>bachelor's degree</td>\n",
              "      <td>standard</td>\n",
              "      <td>completed</td>\n",
              "      <td>100</td>\n",
              "      <td>100</td>\n",
              "      <td>100</td>\n",
              "    </tr>\n",
              "    <tr>\n",
              "      <th>996</th>\n",
              "      <td>male</td>\n",
              "      <td>group A</td>\n",
              "      <td>some college</td>\n",
              "      <td>standard</td>\n",
              "      <td>completed</td>\n",
              "      <td>100</td>\n",
              "      <td>96</td>\n",
              "      <td>86</td>\n",
              "    </tr>\n",
              "    <tr>\n",
              "      <th>515</th>\n",
              "      <td>female</td>\n",
              "      <td>group E</td>\n",
              "      <td>some college</td>\n",
              "      <td>standard</td>\n",
              "      <td>none</td>\n",
              "      <td>100</td>\n",
              "      <td>92</td>\n",
              "      <td>97</td>\n",
              "    </tr>\n",
              "    <tr>\n",
              "      <th>517</th>\n",
              "      <td>female</td>\n",
              "      <td>group E</td>\n",
              "      <td>associate's degree</td>\n",
              "      <td>standard</td>\n",
              "      <td>none</td>\n",
              "      <td>100</td>\n",
              "      <td>100</td>\n",
              "      <td>100</td>\n",
              "    </tr>\n",
              "    <tr>\n",
              "      <th>516</th>\n",
              "      <td>female</td>\n",
              "      <td>group E</td>\n",
              "      <td>bachelor's degree</td>\n",
              "      <td>standard</td>\n",
              "      <td>none</td>\n",
              "      <td>100</td>\n",
              "      <td>100</td>\n",
              "      <td>100</td>\n",
              "    </tr>\n",
              "    <tr>\n",
              "      <th>...</th>\n",
              "      <td>...</td>\n",
              "      <td>...</td>\n",
              "      <td>...</td>\n",
              "      <td>...</td>\n",
              "      <td>...</td>\n",
              "      <td>...</td>\n",
              "      <td>...</td>\n",
              "      <td>...</td>\n",
              "    </tr>\n",
              "    <tr>\n",
              "      <th>856</th>\n",
              "      <td>male</td>\n",
              "      <td>group E</td>\n",
              "      <td>some high school</td>\n",
              "      <td>standard</td>\n",
              "      <td>completed</td>\n",
              "      <td>77</td>\n",
              "      <td>76</td>\n",
              "      <td>77</td>\n",
              "    </tr>\n",
              "    <tr>\n",
              "      <th>855</th>\n",
              "      <td>male</td>\n",
              "      <td>group E</td>\n",
              "      <td>associate's degree</td>\n",
              "      <td>free/reduced</td>\n",
              "      <td>completed</td>\n",
              "      <td>77</td>\n",
              "      <td>69</td>\n",
              "      <td>68</td>\n",
              "    </tr>\n",
              "    <tr>\n",
              "      <th>854</th>\n",
              "      <td>male</td>\n",
              "      <td>group D</td>\n",
              "      <td>some high school</td>\n",
              "      <td>standard</td>\n",
              "      <td>completed</td>\n",
              "      <td>77</td>\n",
              "      <td>68</td>\n",
              "      <td>69</td>\n",
              "    </tr>\n",
              "    <tr>\n",
              "      <th>853</th>\n",
              "      <td>male</td>\n",
              "      <td>group D</td>\n",
              "      <td>associate's degree</td>\n",
              "      <td>free/reduced</td>\n",
              "      <td>none</td>\n",
              "      <td>77</td>\n",
              "      <td>78</td>\n",
              "      <td>73</td>\n",
              "    </tr>\n",
              "    <tr>\n",
              "      <th>852</th>\n",
              "      <td>male</td>\n",
              "      <td>group D</td>\n",
              "      <td>some college</td>\n",
              "      <td>free/reduced</td>\n",
              "      <td>none</td>\n",
              "      <td>77</td>\n",
              "      <td>62</td>\n",
              "      <td>64</td>\n",
              "    </tr>\n",
              "  </tbody>\n",
              "</table>\n",
              "<p>250 rows × 8 columns</p>\n",
              "</div>"
            ],
            "text/plain": [
              "     gender race/ethnicity parental level of education         lunch  \\\n",
              "999    male        group E           bachelor's degree      standard   \n",
              "996    male        group A                some college      standard   \n",
              "515  female        group E                some college      standard   \n",
              "517  female        group E          associate's degree      standard   \n",
              "516  female        group E           bachelor's degree      standard   \n",
              "..      ...            ...                         ...           ...   \n",
              "856    male        group E            some high school      standard   \n",
              "855    male        group E          associate's degree  free/reduced   \n",
              "854    male        group D            some high school      standard   \n",
              "853    male        group D          associate's degree  free/reduced   \n",
              "852    male        group D                some college  free/reduced   \n",
              "\n",
              "    test preparation course  math score  reading score  writing score  \n",
              "999               completed         100            100            100  \n",
              "996               completed         100             96             86  \n",
              "515                    none         100             92             97  \n",
              "517                    none         100            100            100  \n",
              "516                    none         100            100            100  \n",
              "..                      ...         ...            ...            ...  \n",
              "856               completed          77             76             77  \n",
              "855               completed          77             69             68  \n",
              "854               completed          77             68             69  \n",
              "853                    none          77             78             73  \n",
              "852                    none          77             62             64  \n",
              "\n",
              "[250 rows x 8 columns]"
            ]
          },
          "execution_count": 34,
          "metadata": {},
          "output_type": "execute_result"
        }
      ]
    },
    {
      "cell_type": "raw",
      "metadata": {
        "id": "0bdbd1d9"
      },
      "source": [
        "From the above data we can see that all the students who have scored the marks greater than or equal to 77 are eligible for bonus points"
      ],
      "id": "0bdbd1d9"
    },
    {
      "cell_type": "code",
      "metadata": {
        "id": "8f26a0bd"
      },
      "source": [
        ""
      ],
      "id": "8f26a0bd",
      "execution_count": null,
      "outputs": []
    }
  ]
}